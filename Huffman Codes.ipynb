{
 "cells": [
  {
   "cell_type": "code",
   "execution_count": 3,
   "metadata": {
    "collapsed": true
   },
   "outputs": [],
   "source": [
    "from pqueue import PriorityQueue\n",
    "\n",
    "#class Node:\n",
    "#    def __init__ (self, symbol, parent):\n",
    "#        self. symbol = symbol\n",
    "#        self.parent = parent\n",
    "#        self.left_child = self.right_child = None\n",
    "\n",
    "class Node:\n",
    "    def __init__ (self, priority, symbol):\n",
    "        self.priority = priority\n",
    "        self.symbol = symbol\n",
    "        self.left_child = self.right_child = None\n",
    "        \n",
    "    def __lt__ (self, other):\n",
    "        if self.priority < other.priority:#<= was mseeing up the priority queue. TODO: find why?\n",
    "            return True\n",
    "        return False\n",
    "\n",
    "class HuffmanCodes:\n",
    "    alphabet = {} #dictionary of symbols and their probabilities\n",
    "    forest = PriorityQueue () #priority based on probability. Elements will be tuples of priority and symbol\n",
    "    #tree = None #huffman tree\n",
    "    codes = {} # huffman codes\n",
    "\n",
    "    def __init__ (self, symbol_tuples):\n",
    "        for symbol, priority in symbol_tuples:\n",
    "            self.alphabet [symbol] = priority #populate the alphabet\n",
    "            self.forest.insert (Node (priority, symbol)) #populate the forest of priorities\n",
    "\n",
    "    def create_huffman_tree (self):\n",
    "        #while there is more than 1 tree in the forest\n",
    "        while (len (self.forest) > 1):\n",
    "            #get the least and second least priority nodes\n",
    "            least_n = self.forest.delete_min ()\n",
    "            second_least_n = self.forest.delete_min ()\n",
    "            #make them the left child (least) and right child (second least) of a new node\n",
    "            new_node = Node (least_n.priority + second_least_n.priority, '') #empty symbol for interior nodes\n",
    "            new_node.left_child = least_n\n",
    "            new_node.right_child = second_least_n\n",
    "            #insert that new node back into the queue\n",
    "            self.forest.insert (new_node)\n",
    "\n",
    "    def generate_huffman_codes (self):\n",
    "        #create the huffman tree\n",
    "        self.create_huffman_tree ()\n",
    "        \n",
    "        #traverse the tree, in-order, populating the codes\n",
    "        #pass the root of the huffman tree\n",
    "        #code will be empty to begin with\n",
    "        self.in_order (self.forest.delete_min (), '') \n",
    "        \n",
    "    def in_order (self, node, code):\n",
    "        #are we at a leaf node (symbol)\n",
    "        if (node.left_child == None and node.right_child == None):\n",
    "            self.codes [node.symbol] = code\n",
    "        else:\n",
    "            #traverse left child\n",
    "            if node.left_child != None:\n",
    "                self.in_order (node.left_child, code + '0')\n",
    "            #traverse right child\n",
    "            if node.right_child != None:\n",
    "                self.in_order (node.right_child, code + '1')"
   ]
  },
  {
   "cell_type": "code",
   "execution_count": 4,
   "metadata": {},
   "outputs": [
    {
     "name": "stdout",
     "output_type": "stream",
     "text": [
      "{'b': '0', 'e': '10', 'c': '110', 'd': '1110', 'a': '1111'}\n"
     ]
    }
   ],
   "source": [
    "symbol_tuples = (('a', 0.12), ('b', 0.40), ('c', 0.15), ('d', 0.08), ('e', 0.25))\n",
    "hcodes = HuffmanCodes (symbol_tuples)\n",
    "hcodes.generate_huffman_codes ()\n",
    "print (hcodes.codes)"
   ]
  },
  {
   "cell_type": "code",
   "execution_count": null,
   "metadata": {
    "collapsed": true
   },
   "outputs": [],
   "source": []
  }
 ],
 "metadata": {
  "kernelspec": {
   "display_name": "Python 3",
   "language": "python",
   "name": "python3"
  },
  "language_info": {
   "codemirror_mode": {
    "name": "ipython",
    "version": 3
   },
   "file_extension": ".py",
   "mimetype": "text/x-python",
   "name": "python",
   "nbconvert_exporter": "python",
   "pygments_lexer": "ipython3",
   "version": "3.6.3"
  }
 },
 "nbformat": 4,
 "nbformat_minor": 2
}
