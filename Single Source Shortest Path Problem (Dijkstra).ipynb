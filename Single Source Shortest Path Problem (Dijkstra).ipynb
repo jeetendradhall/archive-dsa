{
 "cells": [
  {
   "cell_type": "markdown",
   "metadata": {},
   "source": [
    "### Single Source Shortest Path Problem (Dijkstra)"
   ]
  },
  {
   "cell_type": "code",
   "execution_count": 1,
   "metadata": {
    "collapsed": true
   },
   "outputs": [],
   "source": [
    "from adjmatrix import Vertex\n",
    "from adjmatrix import Graph"
   ]
  },
  {
   "cell_type": "code",
   "execution_count": 2,
   "metadata": {
    "collapsed": true
   },
   "outputs": [],
   "source": [
    "g = Graph (False, True)\n",
    "for i in range (ord('1'),ord('6')):\n",
    "    g.add_vertex (Vertex(chr(i)))\n",
    "    \n",
    "edges = [('12', 10), ('14', 30), ('15', 100), ('23', 50), ('35', 10), ('43', 20), ('45', 60)]\n",
    "for edge in edges:\n",
    "    #print (edge [:1], edge [1:])\n",
    "    g.add_edge (edge [0][:1], edge [0][1:], edge [1])\n",
    "    \n",
    "#g.print_graph ()"
   ]
  },
  {
   "cell_type": "code",
   "execution_count": 3,
   "metadata": {
    "collapsed": true
   },
   "outputs": [],
   "source": [
    "import sys\n",
    "from IPython.core.debugger import set_trace\n",
    "\n",
    "class Dijkstra:\n",
    "    #dictionary of vertex to SSSP values from a source\n",
    "    distance_from_source = {}\n",
    "    #set of vertices whose shortest path value calculation is completed\n",
    "    # i.e. vertices that have been visited\n",
    "    visited = set ()\n",
    "    #dictionary to keep track of which nearest vertex from source (value)\n",
    "    # leads to this vertex (key)\n",
    "    parent_in_path = {}\n",
    "    \n",
    "    def __init__ (self, graph):\n",
    "        self.graph = graph #the graph\n",
    "    \n",
    "    def init (self, source):\n",
    "        #save the source vertex for later use\n",
    "        self.source = source\n",
    "        \n",
    "        #initialize the set of visited vertices\n",
    "        self.visited.add (source)\n",
    "        \n",
    "        #initialize the distance from source\n",
    "        #find index of source, this acts as row# in edges\n",
    "        source_index = self.graph.edge_indices [source]\n",
    "        #iterate over vertices, and their 'associated edge index', \n",
    "        # add vertex to distance_from_source, and, \n",
    "        # associate it with distance found\n",
    "        # from edges (using source_index as row and 'associated edge index' as column\n",
    "        for v, i in self.graph.edge_indices.items():\n",
    "            self.distance_from_source [v] = self.graph.edges [source_index][i]\n",
    "            self.parent_in_path [v] = source\n",
    "\n",
    "    def find_nearest_vertex (self):\n",
    "        #initialize minimum distance to maxsize\n",
    "        min_distance = sys.maxsize\n",
    "        #initialize vertex at minimum distance to None,\n",
    "        # in case there is no neighbor left unvisited\n",
    "        nearest_vertex = None\n",
    "        #iterate the SSSP values for the source\n",
    "        for v, d in self.distance_from_source.items():\n",
    "            #find a vertex not visited and has minimum SSSP distance\n",
    "            if v not in self.visited:\n",
    "                if d < min_distance:\n",
    "                    min_distance = d\n",
    "                    nearest_vertex = v\n",
    "                    \n",
    "        return nearest_vertex\n",
    "    \n",
    "    def calculate_SSSP (self, source):\n",
    "        #set_trace ()\n",
    "        #initialize\n",
    "        self.init (source)\n",
    "        \n",
    "        #find the nearest vertex\n",
    "        nearest_vertex = self.find_nearest_vertex ()\n",
    "        #while there are vertices yet to be viisted\n",
    "        while (nearest_vertex != None):\n",
    "            #add the found nearest vertex to the visited set of vertices\n",
    "            self.visited.add (nearest_vertex)\n",
    "            \n",
    "            #update the distance from source, in cases where\n",
    "            # traversing via the found nearest vertex is shorter\n",
    "\n",
    "            #distance of source to nearest vertex\n",
    "            dist_nearest_vertex_from_source = self.distance_from_source [nearest_vertex]\n",
    "            #index of the nearest vertex\n",
    "            index_nearest_vertex_from_source = self.graph.edge_indices [nearest_vertex]\n",
    "            \n",
    "            #traverse over the adjacent vertices of the nearest vertex\n",
    "            adjacent_vertex_index = self.graph.get_first_adj_vertex (nearest_vertex)\n",
    "            #if an adjacent unvisited vertex is found\n",
    "            while (adjacent_vertex_index != -1):\n",
    "                #get its distance from the nearest vertex (dist_adjacent_from_nearest_vertex)\n",
    "                dist_adjacent_from_nearest_vertex = self.graph.edges [index_nearest_vertex_from_source][adjacent_vertex_index]\n",
    "                #get adjacent vertex from index\n",
    "                adjacent_vertex = self.graph.get_vertex_from_index(adjacent_vertex_index)\n",
    "                #get distance of adjacent vertex from source\n",
    "                dist_adjacent_from_source = self.distance_from_source [adjacent_vertex]\n",
    "                \n",
    "                #if sum (dist_nearest_vertex_from_source + dist_adjacent_from_nearest_vertex)\n",
    "                # less than (dist_adjacent_from_source)\n",
    "                if (dist_nearest_vertex_from_source + dist_adjacent_from_nearest_vertex < dist_adjacent_from_source):\n",
    "                    # then update distance_from_source [adjacent] to sum(...)\n",
    "                    self.distance_from_source [adjacent_vertex] = dist_nearest_vertex_from_source + dist_adjacent_from_nearest_vertex\n",
    "                    self.parent_in_path [adjacent_vertex] = nearest_vertex\n",
    "                \n",
    "                #go to the next adjacent vertex\n",
    "                adjacent_vertex_index = self.graph.get_next_adj_vertex (nearest_vertex, adjacent_vertex_index)\n",
    "            \n",
    "            #find the nearest vertex\n",
    "            nearest_vertex = self.find_nearest_vertex ()\n",
    "            \n",
    "        #self.print_paths ()\n",
    "            \n",
    "    def print_paths (self):\n",
    "        for v, p in sorted(self.parent_in_path.items()):\n",
    "            print ('Reverse path to ', self.source , ' from ', v, ' is ', v, ' ', end = '')\n",
    "            self.print_parent (p)\n",
    "            print (' ')\n",
    "            \n",
    "    def print_parent (self, v):\n",
    "        print (v, ' ', end = '')\n",
    "        if self.parent_in_path [v] != self.source:\n",
    "            self.print_parent (self.parent_in_path [v])"
   ]
  },
  {
   "cell_type": "code",
   "execution_count": 5,
   "metadata": {},
   "outputs": [
    {
     "name": "stdout",
     "output_type": "stream",
     "text": [
      "{'1': 0, '2': 10, '3': 9223372036854775807, '4': 30, '5': 100}\n",
      "Reverse path to  1  from  1  is  1  1   \n",
      "Reverse path to  1  from  2  is  2  1   \n",
      "Reverse path to  1  from  3  is  3  1   \n",
      "Reverse path to  1  from  4  is  4  1   \n",
      "Reverse path to  1  from  5  is  5  1   \n"
     ]
    }
   ],
   "source": [
    "d = Dijkstra (g)\n",
    "d.calculate_SSSP ('1')\n",
    "print (d.distance_from_source)\n",
    "d.print_paths ()"
   ]
  },
  {
   "cell_type": "code",
   "execution_count": null,
   "metadata": {
    "collapsed": true
   },
   "outputs": [],
   "source": []
  }
 ],
 "metadata": {
  "kernelspec": {
   "display_name": "Python 3",
   "language": "python",
   "name": "python3"
  },
  "language_info": {
   "codemirror_mode": {
    "name": "ipython",
    "version": 3
   },
   "file_extension": ".py",
   "mimetype": "text/x-python",
   "name": "python",
   "nbconvert_exporter": "python",
   "pygments_lexer": "ipython3",
   "version": "3.6.3"
  }
 },
 "nbformat": 4,
 "nbformat_minor": 2
}
