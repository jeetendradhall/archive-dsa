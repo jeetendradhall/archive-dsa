{
 "cells": [
  {
   "cell_type": "code",
   "execution_count": 6,
   "metadata": {},
   "outputs": [
    {
     "name": "stdout",
     "output_type": "stream",
     "text": [
      "Considering weight  4  and balance  10\n",
      "Considering weight  4  and balance  6\n",
      "Considering weight  1  and balance  2\n",
      "Cannot consider weight  1\n",
      "Cannot consider weight  4\n",
      "Considering weight  1  and balance  6\n",
      "Cannot consider weight  1\n",
      "Cannot consider weight  4\n",
      "Considering weight  4  and balance  10\n",
      "Considering weight  1  and balance  6\n",
      "Cannot consider weight  1\n",
      "Cannot consider weight  4\n",
      "Considering weight  1  and balance  10\n",
      "Cannot consider weight  1\n"
     ]
    },
    {
     "data": {
      "text/plain": [
       "False"
      ]
     },
     "execution_count": 6,
     "metadata": {},
     "output_type": "execute_result"
    }
   ],
   "source": [
    "from IPython.core.debugger import set_trace\n",
    "weights = [7, 5, 4, 4, 1]\n",
    "total = 10\n",
    "def knapsack (candidate_i, t):\n",
    "    #set_trace ()\n",
    "    if candidate_i >= len (weights):\n",
    "        return False\n",
    "\n",
    "    print ('Considering weight ', weights[candidate_i], ' and balance ', t)\n",
    "\n",
    "    if (t - weights[candidate_i]) > 0: # consider this weight and move to the next weight\n",
    "        if knapsack (candidate_i + 1, t - weights[candidate_i]):\n",
    "            print (weights [candidate_i])\n",
    "            return True;\n",
    "    \n",
    "    if (t - weights[candidate_i]) == 0: #we found a combination.\n",
    "            print (weights [candidate_i])\n",
    "            return True;\n",
    "        \n",
    "    #this weight cannot be considered. try the next.\n",
    "    print ('Cannot consider weight ', weights[candidate_i])\n",
    "    return knapsack (candidate_i + 1, t)\n",
    "    \n",
    "knapsack (2, total)"
   ]
  },
  {
   "cell_type": "code",
   "execution_count": 11,
   "metadata": {},
   "outputs": [
    {
     "name": "stdout",
     "output_type": "stream",
     "text": [
      "Considering weight  4  and balance  10\n",
      "Considering weight  4  and balance  6\n",
      "Considering weight  1  and balance  2\n",
      "Considering weight  1  and balance  6\n",
      "Considering weight  4  and balance  10\n",
      "Considering weight  1  and balance  6\n",
      "Considering weight  1  and balance  10\n"
     ]
    },
    {
     "data": {
      "text/plain": [
       "False"
      ]
     },
     "execution_count": 11,
     "metadata": {},
     "output_type": "execute_result"
    }
   ],
   "source": [
    "def knapsack2 (candidate_i, t):\n",
    "    if candidate_i < len (weights):\n",
    "        print ('Considering weight ', weights[candidate_i], ' and balance ', t)\n",
    "    if (t ==0):\n",
    "        return True\n",
    "    elif t < 0 or candidate_i >= len (weights):\n",
    "        if candidate_i < len (weights):\n",
    "            print ('Cannot consider weight ', weights[candidate_i])\n",
    "        return False\n",
    "    elif knapsack2 (candidate_i + 1, t - weights[candidate_i]):\n",
    "        print (weights [candidate_i])\n",
    "        return True;\n",
    "    else:\n",
    "        return knapsack2 (candidate_i + 1, t)\n",
    "    \n",
    "knapsack2 (2, total)"
   ]
  },
  {
   "cell_type": "code",
   "execution_count": null,
   "metadata": {
    "collapsed": true
   },
   "outputs": [],
   "source": []
  }
 ],
 "metadata": {
  "kernelspec": {
   "display_name": "Python 3",
   "language": "python",
   "name": "python3"
  },
  "language_info": {
   "codemirror_mode": {
    "name": "ipython",
    "version": 3
   },
   "file_extension": ".py",
   "mimetype": "text/x-python",
   "name": "python",
   "nbconvert_exporter": "python",
   "pygments_lexer": "ipython3",
   "version": "3.6.3"
  }
 },
 "nbformat": 4,
 "nbformat_minor": 2
}
