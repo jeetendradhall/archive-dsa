{
 "cells": [
  {
   "cell_type": "code",
   "execution_count": 6,
   "metadata": {
    "collapsed": true
   },
   "outputs": [],
   "source": [
    "class Vertex:\n",
    "    def __init__ (self, name):\n",
    "        self.name = name\n",
    "        #list of neighbors (only name, not the complete Vertex object)\n",
    "        self.neighbors = {}#list ()\n",
    "        \n",
    "    def add_neighbor (self, v, weight):\n",
    "        if v not in self.neighbors:\n",
    "            #self.neighbors.append (v)\n",
    "            self.neighbors [v] = weight\n",
    "            #self.neighbors.sort ()\n",
    "\n",
    "class Graph:\n",
    "    #dictionary of vertices\n",
    "    vertices = {}\n",
    "    \n",
    "    def __init__ (self, undirected = False):\n",
    "        self.undirected = undirected\n",
    "    \n",
    "    def add_vertex (self, v):\n",
    "        if isinstance (v, Vertex) and v.name not in self.vertices:\n",
    "            self.vertices [v.name] = v #the complete Vertex object\n",
    "            return True\n",
    "        else:\n",
    "            return False\n",
    "        \n",
    "    def add_edge (self, a, b, weight = 0):\n",
    "        if a in self.vertices and b in self.vertices:\n",
    "            self.vertices[a].add_neighbor (b, weight)\n",
    "\n",
    "            #for undirected graphs only\n",
    "            if self.undirected == True:\n",
    "                self.vertices[b].add_neighbor (a, weight)\n",
    "\n",
    "            return True\n",
    "        else:\n",
    "            return False\n",
    "        \n",
    "    def print_graph (self):\n",
    "        for key in sorted(list (self.vertices.keys ())):\n",
    "            print (key, self.vertices [key].neighbors)"
   ]
  },
  {
   "cell_type": "code",
   "execution_count": 7,
   "metadata": {},
   "outputs": [
    {
     "name": "stdout",
     "output_type": "stream",
     "text": [
      "1 {'2': 0, '4': 0, '5': 0}\n",
      "2 {'1': 0, '3': 0}\n",
      "3 {'2': 0, '5': 0, '4': 0}\n",
      "4 {'1': 0, '3': 0, '5': 0}\n",
      "5 {'1': 0, '3': 0, '4': 0}\n"
     ]
    }
   ],
   "source": [
    "g = Graph (True)\n",
    "for i in range (ord('1'),ord('6')):\n",
    "    g.add_vertex (Vertex(chr(i)))\n",
    "\n",
    "#g.add_edge ('1', '2')\n",
    "#g.add_edge ('1', '4')\n",
    "#g.add_edge ('1', '5')\n",
    "#g.add_edge ('2', '3')\n",
    "#g.add_edge ('3', '5')\n",
    "#g.add_edge ('4', '3')\n",
    "#g.add_edge ('4', '5')\n",
    "\n",
    "edges = ['12', '14', '15', '23', '35', '43', '45']\n",
    "for edge in edges:\n",
    "    #print (edge [:1], edge [1:])\n",
    "    g.add_edge (edge [:1], edge [1:])\n",
    "    \n",
    "g.print_graph ()"
   ]
  },
  {
   "cell_type": "code",
   "execution_count": null,
   "metadata": {
    "collapsed": true
   },
   "outputs": [],
   "source": []
  }
 ],
 "metadata": {
  "kernelspec": {
   "display_name": "Python 3",
   "language": "python",
   "name": "python3"
  },
  "language_info": {
   "codemirror_mode": {
    "name": "ipython",
    "version": 3
   },
   "file_extension": ".py",
   "mimetype": "text/x-python",
   "name": "python",
   "nbconvert_exporter": "python",
   "pygments_lexer": "ipython3",
   "version": "3.6.3"
  }
 },
 "nbformat": 4,
 "nbformat_minor": 2
}
