{
 "cells": [
  {
   "cell_type": "code",
   "execution_count": 3,
   "metadata": {
    "collapsed": true
   },
   "outputs": [],
   "source": [
    "class PriorityQueue:\n",
    "    queue = list ()\n",
    "    def __init__ (self, items = ()):\n",
    "        for item in items:\n",
    "            self.insert (item)\n",
    "    \n",
    "    def insert (self, item):\n",
    "        #append item to the end of the queue\n",
    "        self.queue.append (item)\n",
    "        \n",
    "        #calculate indexes of item and its parent\n",
    "        item_i = len(self.queue) - 1 #index of item\n",
    "        parent_i = int (item_i / 2) # - 1 #index of parent. NOTE: '-1' required for 0-based index\n",
    "        \n",
    "        #keep climbing if item is less than its parent, till you reach the root\n",
    "        while (parent_i >= 0  and self.queue [item_i] < self.queue [parent_i]):\n",
    "            #swap item with parent\n",
    "            temp = self.queue [item_i]\n",
    "            self.queue [item_i] = self.queue [parent_i]\n",
    "            self.queue [parent_i] = temp\n",
    "            #climb up\n",
    "            item_i = parent_i\n",
    "            parent_i = int (item_i / 2) # -1\n",
    "            \n",
    "    def delete_min (self):\n",
    "        #return the first element in the queue\n",
    "        deleted = self.queue [0]\n",
    "        \n",
    "        #bring the last element to the front\n",
    "        self.queue [0] = self.queue [len(self.queue) - 1]\n",
    "        self.queue.pop ()\n",
    "        \n",
    "        item_i = 0 #set index of the item to be pushed down the queue\n",
    "        left_child = 2 * item_i + 1 #set the index of the left child\n",
    "        right_child = 2 * item_i + 2 #set the index of the right child\n",
    "\n",
    "        \n",
    "        #push item down as long as it has a lower value child\n",
    "        while (left_child < len (self.queue)):\n",
    "            if right_child < len (self.queue): #we have both children to consider\n",
    "                if left_child < right_child: #consider swapping with left child\n",
    "                    child_to_swap = left_child\n",
    "                else:\n",
    "                    child_to_swap = right_child #consider swapping with right child\n",
    "            else: #we only have the left child to consider\n",
    "                child_to_swap = left_child #consider swapping with left child\n",
    "        \n",
    "            if (self.queue [item_i] > self.queue [child_to_swap]): #we have a lower value child\n",
    "                temp = self.queue [item_i]\n",
    "                self.queue [item_i] = self.queue [child_to_swap]\n",
    "                self.queue [child_to_swap] = temp\n",
    "            \n",
    "                item_i = child_to_swap #item is now where its child was\n",
    "                left_child = 2 * item_i + 1 #set the index of the left child\n",
    "                right_child = 2 * item_i + 2 #set the index of the right child\n",
    "            else: #item has higher valued children, so, it is in the correct spot\n",
    "                break #having found the correct spot, stop pushing down the item\n",
    "\n",
    "        return deleted\n",
    "    \n",
    "    def is_empty (self):\n",
    "        if len (self.queue) > 0:\n",
    "            return False\n",
    "        else:\n",
    "            return True\n",
    "        \n",
    "    def __len__ (self):\n",
    "        return len(self.queue)"
   ]
  },
  {
   "cell_type": "code",
   "execution_count": 4,
   "metadata": {},
   "outputs": [
    {
     "name": "stdout",
     "output_type": "stream",
     "text": [
      "[3, 5, 9, 6, 9, 10, 10, 8, 18, 9]\n",
      "3\n",
      "[5, 6, 9, 8, 9, 10, 10, 9, 18]\n",
      "False\n",
      "9\n"
     ]
    }
   ],
   "source": [
    "#items = [6, 9, 4, 10, 3, 18, 10, 9, 8, 5, 9]\n",
    "#[3, 4, 5, 9, 6, 9, 10, 10, 9, 8, 18]\n",
    "items = [5, 9, 6, 8, 9, 10, 10, 3, 18, 9]\n",
    "#[3, 5, 8, 6, 9, 9, 10, 10, 18, 9]\n",
    "pq = PriorityQueue (items)\n",
    "print (pq.queue)\n",
    "print (pq.delete_min ())\n",
    "print (pq.queue)\n",
    "print (pq.is_empty())\n",
    "print (len(pq))"
   ]
  },
  {
   "cell_type": "code",
   "execution_count": null,
   "metadata": {
    "collapsed": true
   },
   "outputs": [],
   "source": []
  }
 ],
 "metadata": {
  "kernelspec": {
   "display_name": "Python 3",
   "language": "python",
   "name": "python3"
  },
  "language_info": {
   "codemirror_mode": {
    "name": "ipython",
    "version": 3
   },
   "file_extension": ".py",
   "mimetype": "text/x-python",
   "name": "python",
   "nbconvert_exporter": "python",
   "pygments_lexer": "ipython3",
   "version": "3.6.3"
  }
 },
 "nbformat": 4,
 "nbformat_minor": 2
}
