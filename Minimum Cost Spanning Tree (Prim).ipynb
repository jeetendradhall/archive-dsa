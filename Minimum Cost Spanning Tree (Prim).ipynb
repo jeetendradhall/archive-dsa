{
 "cells": [
  {
   "cell_type": "code",
   "execution_count": 42,
   "metadata": {
    "collapsed": true
   },
   "outputs": [],
   "source": [
    "import sys\n",
    "from adjmatrix import Vertex\n",
    "from adjmatrix import Graph\n",
    "\n",
    "class InefficientPrim:\n",
    "    U, V = set (), set ()\n",
    "    edges = set ()\n",
    "\n",
    "    def __init__ (self, g):\n",
    "        self.graph = g\n",
    "        \n",
    "    def find_mst (self, root):\n",
    "        #initialize U and V\n",
    "        self.U.add (root)\n",
    "        for v in self.graph.vertices:\n",
    "            if v != root:\n",
    "                self.V.add (v)\n",
    "        \n",
    "        while (len(self.V) > 0):\n",
    "            #iterate over edges (u,v) with u from U and v from V\n",
    "            #keep track of minimum weight edge found\n",
    "            min_u, min_v, min_weight = -1, -1, sys.maxsize\n",
    "            for u in self.U:\n",
    "                for v in self.V:\n",
    "                    index_u = self.graph.edge_indices [u]\n",
    "                    index_v = self.graph.edge_indices [v]\n",
    "                    weight = self.graph.edges [index_u][index_v]\n",
    "                    if weight < min_weight:\n",
    "                        min_u, min_v, min_weight = u, v, weight\n",
    "            #print (min_u, '--', min_v, ' : weight = ', min_weight)\n",
    "            \n",
    "            #add the edge (min_u, min_v) to the tree\n",
    "            self.edges.add ((min_u, min_v))\n",
    "            #move min_v from V to U\n",
    "            self.V.remove (min_v)\n",
    "            self.U.add (min_v)"
   ]
  },
  {
   "cell_type": "code",
   "execution_count": 54,
   "metadata": {
    "collapsed": true
   },
   "outputs": [],
   "source": [
    "g = Graph (True, True)\n",
    "for i in range (ord('1'), ord('7')):\n",
    "    g.add_vertex (Vertex(chr(i)))\n",
    "    \n",
    "edges = [('12', 6), ('13', 1), ('14', 5), ('23', 5), ('25', 3), ('34', 5), ('35', 6), ('36', 4), ('56', 1), ('46', 2)]\n",
    "for edge in edges:\n",
    "    g.add_edge (edge [0][:1], edge [0][1:], edge [1])\n",
    "\n",
    "#g.print_graph ()\n"
   ]
  },
  {
   "cell_type": "code",
   "execution_count": 43,
   "metadata": {},
   "outputs": [
    {
     "name": "stdout",
     "output_type": "stream",
     "text": [
      "{('3', '1'), ('4', '6'), ('6', '3'), ('2', '5'), ('3', '2')}\n"
     ]
    }
   ],
   "source": [
    "\n",
    "inefficient_prim = InefficientPrim (g)\n",
    "inefficient_prim.find_mst ('4')\n",
    "print (inefficient_prim.edges)"
   ]
  },
  {
   "cell_type": "code",
   "execution_count": 55,
   "metadata": {
    "collapsed": true
   },
   "outputs": [],
   "source": [
    "class Prim:\n",
    "    #resulting mcs tree\n",
    "    mcs_tree = set ()\n",
    "    #dictionary of vertex v (key) closest to which vertex u (value)\n",
    "    closest_u = {}\n",
    "    #dictionary of distance (value) from closest vertex v to vertex u (key)\n",
    "    distance_from_u = {} \n",
    "    \n",
    "    def __init__ (self, g):\n",
    "        self.graph = g\n",
    "        \n",
    "    def init (self, root):\n",
    "        #initialize the nearest U and distance from U dictionaries\n",
    "        for v, i in self.graph.edge_indices.items ():\n",
    "            #skip inserting the root\n",
    "            if v == root:\n",
    "                continue;\n",
    "            \n",
    "            self.closest_u [v] = root\n",
    "            self.distance_from_u [v] = self.graph.edges [self.graph.edge_indices[root]][i]\n",
    "\n",
    "    def find_mcs_tree (self, root):\n",
    "        self.init (root)\n",
    "        \n",
    "        #while we still have vertices in V\n",
    "        while (len (self.distance_from_u) > 0):\n",
    "            #find an edge U-V with minimum distance\n",
    "            min_v, min_dist = '', sys.maxsize\n",
    "            for v, d in self.distance_from_u.items ():\n",
    "                if d < min_dist:\n",
    "                    min_v, min_dist = v, d\n",
    "            \n",
    "            #add an edge to the mcs tree\n",
    "            self.mcs_tree.add ((self.closest_u [min_v], min_v))\n",
    "            #remove v from the dictionaries\n",
    "            self.closest_u.pop (min_v)\n",
    "            self.distance_from_u.pop (min_v)\n",
    "            \n",
    "            #update the dictionaries based on min_v getting added to U\n",
    "            min_v_index = self.graph.edge_indices [min_v]\n",
    "            for col_index in range (0, len(self.graph.vertices)):\n",
    "                distance_from_min_v = self.graph.edges [min_v_index][col_index]\n",
    "                #if we find a vertex reachable from min_v\n",
    "                if distance_from_min_v < sys.maxsize:\n",
    "                    #get name of that vertex, given its index (the column in graph.edges)\n",
    "                    update_candidate_vertex = self.graph.get_vertex_from_index (col_index)\n",
    "                    #if that vertex is a member of V (i.e. not a member of U)\n",
    "                    if (update_candidate_vertex in self.closest_u):\n",
    "                        #if its existing distance from a vertex in U is higher than distance_from_min_v\n",
    "                        if self.distance_from_u [update_candidate_vertex] > distance_from_min_v:\n",
    "                            #update the dictionaries to reflect the new closest vertex and distance\n",
    "                            self.closest_u [update_candidate_vertex] = min_v\n",
    "                            self.distance_from_u [update_candidate_vertex] = distance_from_min_v\n",
    "                #for v_index in self.graph.edges [min_v_index]:\n",
    "                "
   ]
  },
  {
   "cell_type": "code",
   "execution_count": 56,
   "metadata": {},
   "outputs": [
    {
     "name": "stdout",
     "output_type": "stream",
     "text": [
      "{('5', '2'), ('1', '3'), ('3', '6'), ('6', '4'), ('6', '5')}\n"
     ]
    }
   ],
   "source": [
    "prim = Prim (g)\n",
    "prim.find_mcs_tree ('1')\n",
    "print (prim.mcs_tree)"
   ]
  },
  {
   "cell_type": "code",
   "execution_count": null,
   "metadata": {
    "collapsed": true
   },
   "outputs": [],
   "source": []
  }
 ],
 "metadata": {
  "kernelspec": {
   "display_name": "Python 3",
   "language": "python",
   "name": "python3"
  },
  "language_info": {
   "codemirror_mode": {
    "name": "ipython",
    "version": 3
   },
   "file_extension": ".py",
   "mimetype": "text/x-python",
   "name": "python",
   "nbconvert_exporter": "python",
   "pygments_lexer": "ipython3",
   "version": "3.6.3"
  }
 },
 "nbformat": 4,
 "nbformat_minor": 2
}
