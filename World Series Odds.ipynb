{
 "cells": [
  {
   "cell_type": "code",
   "execution_count": 94,
   "metadata": {},
   "outputs": [],
   "source": [
    "import numpy as np\n",
    "def calculate_odds_A_win (n):\n",
    "    # create a n*n array/list of P (i, j), i is column and j is row,\n",
    "    #indices indicating matches to be won\n",
    "    #The array will consist of probability that A wins\n",
    "    # given that A needs i games to win, and B needs j games to win\n",
    "    #-1 indicates invalid value\n",
    "    a = [[-1]*(n+1) for x in range(n+1)]\n",
    "    \n",
    "    #initialize the array with known probabilities\n",
    "    for index in range (n+1):\n",
    "        a [index][0] = 1 #P(i, j) = 1 for i = 0 and j > 0 (A has already won). set first column (i=0) to 1\n",
    "        a [0][index] = 0 #P(i, j) = 0 for i > 0 and j = 0 (A has already lost). set first row (j=0) to 0\n",
    "    a [0][0] = -1 #P(i=0, j=0) is an invalid case, hence -1 (-1 indicates invalid value)\n",
    "    \n",
    "    for i in range (1, n+1):\n",
    "        for j in range (1, n+1):\n",
    "            a [i][j] = (a[i-1][j] + a[i][j-1]) / 2\n",
    "    \n",
    "    #convery 2D list to array\n",
    "    a = np.array (a)\n",
    "    #flip horizontal\n",
    "    a = np.fliplr(a)\n",
    "    #flip vertical\n",
    "    a = a[::-1]\n",
    "    \n",
    "    return a"
   ]
  },
  {
   "cell_type": "code",
   "execution_count": 95,
   "metadata": {},
   "outputs": [
    {
     "name": "stdout",
     "output_type": "stream",
     "text": [
      "[[ 0.5      0.65625  0.8125   0.9375   1.     ]\n",
      " [ 0.34375  0.5      0.6875   0.875    1.     ]\n",
      " [ 0.1875   0.3125   0.5      0.75     1.     ]\n",
      " [ 0.0625   0.125    0.25     0.5      1.     ]\n",
      " [ 0.       0.       0.       0.      -1.     ]]\n"
     ]
    }
   ],
   "source": [
    "import numpy as np\n",
    "n = 4\n",
    "print (calculate_odds_A_win (n))"
   ]
  }
 ],
 "metadata": {
  "kernelspec": {
   "display_name": "Python 3",
   "language": "python",
   "name": "python3"
  },
  "language_info": {
   "codemirror_mode": {
    "name": "ipython",
    "version": 3
   },
   "file_extension": ".py",
   "mimetype": "text/x-python",
   "name": "python",
   "nbconvert_exporter": "python",
   "pygments_lexer": "ipython3",
   "version": "3.6.3"
  }
 },
 "nbformat": 4,
 "nbformat_minor": 2
}
