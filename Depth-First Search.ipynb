{
 "cells": [
  {
   "cell_type": "code",
   "execution_count": 1,
   "metadata": {
    "collapsed": true
   },
   "outputs": [],
   "source": [
    "from adjlist import Vertex\n",
    "from adjlist import Graph\n",
    "\n",
    "class DFS:\n",
    "    #dictionary of vertex to its mark (mark = True means visited)\n",
    "    mark = {}\n",
    "\n",
    "    def __init__ (self, g):\n",
    "        self.graph = g\n",
    "        for v in sorted (self.graph.vertices):\n",
    "            self.mark [v] = False\n",
    "            \n",
    "    def print_forest (self):\n",
    "        for name, vertex in self.graph.vertices.items ():\n",
    "            if (self.mark [name] == False):\n",
    "                print ('Tree rooted at ', name)\n",
    "                self.print_tree (vertex)\n",
    "\n",
    "    def print_tree (self, r):\n",
    "        self.mark [r.name] = True\n",
    "        #print (r.name)\n",
    "        for n in sorted (r.neighbors):\n",
    "            if (self.mark [n] == False):\n",
    "                print ('Going to child ', n, ' of ', r.name)\n",
    "                self.print_tree (self.graph.vertices[n])\n"
   ]
  },
  {
   "cell_type": "code",
   "execution_count": 6,
   "metadata": {},
   "outputs": [
    {
     "name": "stdout",
     "output_type": "stream",
     "text": [
      "Tree rooted at  A\n",
      "Going to child  B  of  A\n",
      "Going to child  C  of  B\n",
      "Going to child  D  of  B\n",
      "Tree rooted at  E\n",
      "Going to child  F  of  E\n",
      "Going to child  G  of  E\n"
     ]
    }
   ],
   "source": [
    "g = Graph ()\n",
    "for i in range (ord('A'), ord('H')):\n",
    "    g.add_vertex (Vertex (chr(i)))\n",
    "    \n",
    "edges = ['AB', 'BC', 'BD', 'CA', 'DC', 'EF', 'EG', 'FB', 'GD', 'GF', 'DA']\n",
    "for edge in edges:\n",
    "    g.add_edge (edge[:1], edge[1:])\n",
    "    \n",
    "#g.print_graph ()\n",
    "\n",
    "dfs = DFS (g)\n",
    "dfs.print_forest ()"
   ]
  },
  {
   "cell_type": "code",
   "execution_count": 2,
   "metadata": {},
   "outputs": [
    {
     "name": "stdout",
     "output_type": "stream",
     "text": [
      "Tree rooted at  1\n",
      "Going to child  2  of  1\n",
      "Going to child  3  of  2\n",
      "Going to child  4  of  3\n",
      "Going to child  6  of  4\n",
      "Going to child  5  of  3\n"
     ]
    }
   ],
   "source": [
    "g = Graph (False)\n",
    "for i in range (ord('1'), ord('7')):\n",
    "    g.add_vertex (Vertex(chr(i)))\n",
    "    \n",
    "edges = [('12', 6), ('13', 1), ('14', 5), ('23', 5), ('25', 3), ('34', 5), ('35', 6), ('36', 4), ('56', 1), ('46', 2)]\n",
    "for edge in edges:\n",
    "    g.add_edge (edge [0][:1], edge [0][1:], edge [1])\n",
    "    \n",
    "dfs = DFS (g)\n",
    "dfs.print_forest ()"
   ]
  },
  {
   "cell_type": "code",
   "execution_count": null,
   "metadata": {
    "collapsed": true
   },
   "outputs": [],
   "source": []
  }
 ],
 "metadata": {
  "kernelspec": {
   "display_name": "Python 3",
   "language": "python",
   "name": "python3"
  },
  "language_info": {
   "codemirror_mode": {
    "name": "ipython",
    "version": 3
   },
   "file_extension": ".py",
   "mimetype": "text/x-python",
   "name": "python",
   "nbconvert_exporter": "python",
   "pygments_lexer": "ipython3",
   "version": "3.6.3"
  }
 },
 "nbformat": 4,
 "nbformat_minor": 2
}
