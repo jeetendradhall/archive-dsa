{
 "cells": [
  {
   "cell_type": "code",
   "execution_count": 134,
   "metadata": {},
   "outputs": [],
   "source": [
    "def prepare_schedule (players):\n",
    "    players_n = len (players)\n",
    "    #for more than 2 players (4, 8, 16, 32, ...) divide into two half schedules\n",
    "    if players_n > 2:\n",
    "        mid_i = int(players_n/2)\n",
    "        #get the two half schedules\n",
    "        s1 = prepare_schedule (players[:-mid_i])\n",
    "        s2 = prepare_schedule (players[mid_i:])\n",
    "        \n",
    "        #stack column-wise\n",
    "        s = np.vstack ((s1, s2))\n",
    "        \n",
    "        #create and append circular combinations\n",
    "\n",
    "        #first columns of the half schedules\n",
    "        s1_col = s1[:,[0]]\n",
    "        s2_col = s2[:,[0]]\n",
    "\n",
    "        #append circular combinations\n",
    "        for i in range (len(s1_col)):\n",
    "            s_col = np.vstack ((np.roll(s2_col, i), np.roll(s1_col, i)))\n",
    "            s = np.hstack ((s, s_col))\n",
    "        return (s)\n",
    "    else:\n",
    "        s = np.vstack ((players[1], players[0]))\n",
    "        \n",
    "        return s"
   ]
  },
  {
   "cell_type": "code",
   "execution_count": 135,
   "metadata": {},
   "outputs": [
    {
     "data": {
      "text/plain": [
       "array([[2, 4, 3, 6, 7, 8, 5],\n",
       "       [1, 3, 4, 5, 6, 7, 8],\n",
       "       [4, 2, 1, 8, 5, 6, 7],\n",
       "       [3, 1, 2, 7, 8, 5, 6],\n",
       "       [6, 8, 7, 2, 3, 4, 1],\n",
       "       [5, 7, 8, 1, 2, 3, 4],\n",
       "       [8, 6, 5, 4, 1, 2, 3],\n",
       "       [7, 5, 6, 3, 4, 1, 2]])"
      ]
     },
     "execution_count": 135,
     "metadata": {},
     "output_type": "execute_result"
    }
   ],
   "source": [
    "prepare_schedule ([1,2,3,4,5,6,7,8])"
   ]
  },
  {
   "cell_type": "code",
   "execution_count": null,
   "metadata": {
    "collapsed": true
   },
   "outputs": [],
   "source": []
  }
 ],
 "metadata": {
  "kernelspec": {
   "display_name": "Python 3",
   "language": "python",
   "name": "python3"
  },
  "language_info": {
   "codemirror_mode": {
    "name": "ipython",
    "version": 3
   },
   "file_extension": ".py",
   "mimetype": "text/x-python",
   "name": "python",
   "nbconvert_exporter": "python",
   "pygments_lexer": "ipython3",
   "version": "3.6.3"
  }
 },
 "nbformat": 4,
 "nbformat_minor": 2
}
